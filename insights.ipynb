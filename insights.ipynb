{
 "cells": [
  {
   "cell_type": "code",
   "execution_count": 7,
   "metadata": {},
   "outputs": [],
   "source": [
    "import pandas as pd\n",
    "from project import paths\n",
    "import matplotlib.pyplot as plt\n",
    "import seaborn as sns"
   ]
  },
  {
   "cell_type": "code",
   "execution_count": 2,
   "metadata": {},
   "outputs": [
    {
     "data": {
      "text/html": [
       "<div>\n",
       "<style scoped>\n",
       "    .dataframe tbody tr th:only-of-type {\n",
       "        vertical-align: middle;\n",
       "    }\n",
       "\n",
       "    .dataframe tbody tr th {\n",
       "        vertical-align: top;\n",
       "    }\n",
       "\n",
       "    .dataframe thead th {\n",
       "        text-align: right;\n",
       "    }\n",
       "</style>\n",
       "<table border=\"1\" class=\"dataframe\">\n",
       "  <thead>\n",
       "    <tr style=\"text-align: right;\">\n",
       "      <th></th>\n",
       "      <th>age</th>\n",
       "      <th>class of worker</th>\n",
       "      <th>detailed industry recode</th>\n",
       "      <th>detailed occupation recode</th>\n",
       "      <th>education</th>\n",
       "      <th>wage per hour</th>\n",
       "      <th>enroll in edu inst last wk</th>\n",
       "      <th>marital stat</th>\n",
       "      <th>major industry code</th>\n",
       "      <th>major occupation code</th>\n",
       "      <th>...</th>\n",
       "      <th>country of birth father</th>\n",
       "      <th>country of birth mother</th>\n",
       "      <th>country of birth self</th>\n",
       "      <th>citizenship</th>\n",
       "      <th>own business or self employed</th>\n",
       "      <th>fill inc questionnaire for veteran</th>\n",
       "      <th>veterans benefits</th>\n",
       "      <th>weeks worked in year</th>\n",
       "      <th>year</th>\n",
       "      <th>TARGET</th>\n",
       "    </tr>\n",
       "  </thead>\n",
       "  <tbody>\n",
       "    <tr>\n",
       "      <th>0</th>\n",
       "      <td>73</td>\n",
       "      <td>Not in universe</td>\n",
       "      <td>0</td>\n",
       "      <td>0</td>\n",
       "      <td>High school graduate</td>\n",
       "      <td>0</td>\n",
       "      <td>Not in universe</td>\n",
       "      <td>Widowed</td>\n",
       "      <td>Not in universe or children</td>\n",
       "      <td>Not in universe</td>\n",
       "      <td>...</td>\n",
       "      <td>United-States</td>\n",
       "      <td>United-States</td>\n",
       "      <td>United-States</td>\n",
       "      <td>Native- Born in the United States</td>\n",
       "      <td>0</td>\n",
       "      <td>Not in universe</td>\n",
       "      <td>2</td>\n",
       "      <td>0</td>\n",
       "      <td>95</td>\n",
       "      <td>- 50000.</td>\n",
       "    </tr>\n",
       "    <tr>\n",
       "      <th>1</th>\n",
       "      <td>58</td>\n",
       "      <td>Self-employed-not incorporated</td>\n",
       "      <td>4</td>\n",
       "      <td>34</td>\n",
       "      <td>Some college but no degree</td>\n",
       "      <td>0</td>\n",
       "      <td>Not in universe</td>\n",
       "      <td>Divorced</td>\n",
       "      <td>Construction</td>\n",
       "      <td>Precision production craft &amp; repair</td>\n",
       "      <td>...</td>\n",
       "      <td>United-States</td>\n",
       "      <td>United-States</td>\n",
       "      <td>United-States</td>\n",
       "      <td>Native- Born in the United States</td>\n",
       "      <td>0</td>\n",
       "      <td>Not in universe</td>\n",
       "      <td>2</td>\n",
       "      <td>52</td>\n",
       "      <td>94</td>\n",
       "      <td>- 50000.</td>\n",
       "    </tr>\n",
       "    <tr>\n",
       "      <th>2</th>\n",
       "      <td>18</td>\n",
       "      <td>Not in universe</td>\n",
       "      <td>0</td>\n",
       "      <td>0</td>\n",
       "      <td>10th grade</td>\n",
       "      <td>0</td>\n",
       "      <td>High school</td>\n",
       "      <td>Never married</td>\n",
       "      <td>Not in universe or children</td>\n",
       "      <td>Not in universe</td>\n",
       "      <td>...</td>\n",
       "      <td>Vietnam</td>\n",
       "      <td>Vietnam</td>\n",
       "      <td>Vietnam</td>\n",
       "      <td>Foreign born- Not a citizen of U S</td>\n",
       "      <td>0</td>\n",
       "      <td>Not in universe</td>\n",
       "      <td>2</td>\n",
       "      <td>0</td>\n",
       "      <td>95</td>\n",
       "      <td>- 50000.</td>\n",
       "    </tr>\n",
       "    <tr>\n",
       "      <th>3</th>\n",
       "      <td>9</td>\n",
       "      <td>Not in universe</td>\n",
       "      <td>0</td>\n",
       "      <td>0</td>\n",
       "      <td>Children</td>\n",
       "      <td>0</td>\n",
       "      <td>Not in universe</td>\n",
       "      <td>Never married</td>\n",
       "      <td>Not in universe or children</td>\n",
       "      <td>Not in universe</td>\n",
       "      <td>...</td>\n",
       "      <td>United-States</td>\n",
       "      <td>United-States</td>\n",
       "      <td>United-States</td>\n",
       "      <td>Native- Born in the United States</td>\n",
       "      <td>0</td>\n",
       "      <td>Not in universe</td>\n",
       "      <td>0</td>\n",
       "      <td>0</td>\n",
       "      <td>94</td>\n",
       "      <td>- 50000.</td>\n",
       "    </tr>\n",
       "    <tr>\n",
       "      <th>4</th>\n",
       "      <td>10</td>\n",
       "      <td>Not in universe</td>\n",
       "      <td>0</td>\n",
       "      <td>0</td>\n",
       "      <td>Children</td>\n",
       "      <td>0</td>\n",
       "      <td>Not in universe</td>\n",
       "      <td>Never married</td>\n",
       "      <td>Not in universe or children</td>\n",
       "      <td>Not in universe</td>\n",
       "      <td>...</td>\n",
       "      <td>United-States</td>\n",
       "      <td>United-States</td>\n",
       "      <td>United-States</td>\n",
       "      <td>Native- Born in the United States</td>\n",
       "      <td>0</td>\n",
       "      <td>Not in universe</td>\n",
       "      <td>0</td>\n",
       "      <td>0</td>\n",
       "      <td>94</td>\n",
       "      <td>- 50000.</td>\n",
       "    </tr>\n",
       "  </tbody>\n",
       "</table>\n",
       "<p>5 rows × 42 columns</p>\n",
       "</div>"
      ],
      "text/plain": [
       "   age                  class of worker detailed industry recode  \\\n",
       "0   73                  Not in universe                        0   \n",
       "1   58   Self-employed-not incorporated                        4   \n",
       "2   18                  Not in universe                        0   \n",
       "3    9                  Not in universe                        0   \n",
       "4   10                  Not in universe                        0   \n",
       "\n",
       "  detailed occupation recode                    education  wage per hour  \\\n",
       "0                          0         High school graduate              0   \n",
       "1                         34   Some college but no degree              0   \n",
       "2                          0                   10th grade              0   \n",
       "3                          0                     Children              0   \n",
       "4                          0                     Children              0   \n",
       "\n",
       "  enroll in edu inst last wk    marital stat           major industry code  \\\n",
       "0            Not in universe         Widowed   Not in universe or children   \n",
       "1            Not in universe        Divorced                  Construction   \n",
       "2                High school   Never married   Not in universe or children   \n",
       "3            Not in universe   Never married   Not in universe or children   \n",
       "4            Not in universe   Never married   Not in universe or children   \n",
       "\n",
       "                  major occupation code  ... country of birth father  \\\n",
       "0                       Not in universe  ...           United-States   \n",
       "1   Precision production craft & repair  ...           United-States   \n",
       "2                       Not in universe  ...                 Vietnam   \n",
       "3                       Not in universe  ...           United-States   \n",
       "4                       Not in universe  ...           United-States   \n",
       "\n",
       "  country of birth mother country of birth self  \\\n",
       "0           United-States         United-States   \n",
       "1           United-States         United-States   \n",
       "2                 Vietnam               Vietnam   \n",
       "3           United-States         United-States   \n",
       "4           United-States         United-States   \n",
       "\n",
       "                            citizenship own business or self employed  \\\n",
       "0     Native- Born in the United States                             0   \n",
       "1     Native- Born in the United States                             0   \n",
       "2   Foreign born- Not a citizen of U S                              0   \n",
       "3     Native- Born in the United States                             0   \n",
       "4     Native- Born in the United States                             0   \n",
       "\n",
       "  fill inc questionnaire for veteran  veterans benefits  weeks worked in year  \\\n",
       "0                    Not in universe                  2                     0   \n",
       "1                    Not in universe                  2                    52   \n",
       "2                    Not in universe                  2                     0   \n",
       "3                    Not in universe                  0                     0   \n",
       "4                    Not in universe                  0                     0   \n",
       "\n",
       "   year     TARGET  \n",
       "0    95   - 50000.  \n",
       "1    94   - 50000.  \n",
       "2    95   - 50000.  \n",
       "3    94   - 50000.  \n",
       "4    94   - 50000.  \n",
       "\n",
       "[5 rows x 42 columns]"
      ]
     },
     "execution_count": 2,
     "metadata": {},
     "output_type": "execute_result"
    }
   ],
   "source": [
    "data = pd.read_pickle(paths['processed'] / 'data.pkl')\n",
    "data.head()"
   ]
  },
  {
   "cell_type": "code",
   "execution_count": 11,
   "metadata": {},
   "outputs": [],
   "source": [
    "target_map = {' - 50000.':0, ' 50000+.':1}\n",
    "\n",
    "data['TARGET'] = data['TARGET'].map(target_map)"
   ]
  },
  {
   "cell_type": "code",
   "execution_count": 16,
   "metadata": {},
   "outputs": [
    {
     "data": {
      "text/plain": [
       "Index(['age', 'wage per hour', 'capital gains', 'capital losses',\n",
       "       'dividends from stocks', 'instance weight',\n",
       "       'num persons worked for employer', 'weeks worked in year', 'year',\n",
       "       'TARGET'],\n",
       "      dtype='object')"
      ]
     },
     "execution_count": 16,
     "metadata": {},
     "output_type": "execute_result"
    }
   ],
   "source": [
    "data.select_dtypes(include=['number']).columns"
   ]
  },
  {
   "cell_type": "code",
   "execution_count": 52,
   "metadata": {},
   "outputs": [
    {
     "name": "stdout",
     "output_type": "stream",
     "text": [
      "Top 5 Strongest Relationships with TARGET Variable:\n",
      "weeks worked in year: 0.2622\n",
      "capital gains: 0.2404\n",
      "num persons worked for employer: 0.2241\n",
      "dividends from stocks: 0.1785\n",
      "capital losses: 0.1474\n"
     ]
    }
   ],
   "source": [
    "from scipy.stats import pointbiserialr\n",
    "\n",
    "# Assuming 'data' is your DataFrame\n",
    "\n",
    "# 1. Extract only the numeric variables (excluding the target variable)\n",
    "numeric_columns = data.select_dtypes(include=['number']).columns\n",
    "numeric_columns = numeric_columns.drop('TARGET', errors='ignore')  # Exclude 'TARGET'\n",
    "numeric_data = data[numeric_columns]\n",
    "\n",
    "# 2. Calculate the point-biserial correlation for all numeric variables with the 'TARGET'\n",
    "correlations = {}\n",
    "for col in numeric_data.columns:\n",
    "    correlation, _ = pointbiserialr(data[col], data['TARGET'])\n",
    "    correlations[col] = abs(correlation)  # Take the absolute value of correlation\n",
    "\n",
    "# 3. Sort the correlations by absolute value to find the strongest relationships\n",
    "sorted_correlations = sorted(correlations.items(), key=lambda x: x[1], reverse=True)\n",
    "\n",
    "# 4. Extract the top 5 strongest correlations\n",
    "top_5_correlations = sorted_correlations[:5]\n",
    "\n",
    "# 5. Output the top 5 strongest correlations\n",
    "print(\"Top 5 Strongest Relationships with TARGET Variable:\")\n",
    "for feature, corr_value in top_5_correlations:\n",
    "    print(f\"{feature}: {corr_value:.4f}\")\n"
   ]
  },
  {
   "cell_type": "code",
   "execution_count": 18,
   "metadata": {},
   "outputs": [
    {
     "name": "stdout",
     "output_type": "stream",
     "text": [
      "Top 5 Strongest Relationships with TARGET Variable:\n",
      "weeks worked in year               0.262229\n",
      "capital gains                      0.240382\n",
      "num persons worked for employer    0.224148\n",
      "dividends from stocks              0.178462\n",
      "capital losses                     0.147448\n",
      "Name: TARGET, dtype: float64\n"
     ]
    }
   ],
   "source": [
    "# 1. Extract only the numeric variables (excluding the target variable)\n",
    "numeric_columns = data.select_dtypes(include=['number']).columns\n",
    "#numeric_columns.pop(\"TARGET\")\n",
    "numeric_data = data[numeric_columns]\n",
    "\n",
    "# 2. Calculate the correlation matrix for all numeric variables\n",
    "correlation_matrix = numeric_data.corr()\n",
    "\n",
    "# 3. Get the correlations of all numeric variables with the 'TARGET' variable\n",
    "target_correlation = correlation_matrix['TARGET'].drop('TARGET', axis=0)  # Drop 'TARGET' from its own correlation\n",
    "\n",
    "# 4. Sort the correlations by absolute value to find the strongest relationships\n",
    "sorted_correlation = target_correlation.abs().sort_values(ascending=False)\n",
    "\n",
    "# 5. Extract the top 5 strongest correlations\n",
    "top_5_correlations = sorted_correlation.head(5)\n",
    "\n",
    "# Output the top 5 strongest correlations\n",
    "print(\"Top 5 Strongest Relationships with TARGET Variable:\")\n",
    "print(top_5_correlations)"
   ]
  },
  {
   "cell_type": "markdown",
   "metadata": {},
   "source": [
    "### Weeks worked in a year"
   ]
  },
  {
   "cell_type": "code",
   "execution_count": 44,
   "metadata": {},
   "outputs": [
    {
     "data": {
      "image/png": "[encoded data removed]",
      "text/plain": [
       "<Figure size 576x432 with 1 Axes>"
      ]
     },
     "metadata": {
      "needs_background": "light"
     },
     "output_type": "display_data"
    }
   ],
   "source": [
    "# Calculate the correlation between 'weeks worked in year' and 'TARGET'\n",
    "correlation = data['weeks worked in year'].corr(data['TARGET'])\n",
    "\n",
    "# Create the plot\n",
    "plt.figure(figsize=(8, 6))\n",
    "sns.regplot(x='weeks worked in year', y='TARGET', data=data, scatter_kws={'alpha':0.6}, line_kws={'color': 'red'})\n",
    "\n",
    "# Set the title and labels\n",
    "plt.title('Relationship Between Weeks Worked and Income Band Variable', fontsize=14)\n",
    "plt.xlabel('Weeks Worked in a Year', fontsize=12)\n",
    "plt.ylabel('TARGET Variable', fontsize=12)\n",
    "\n",
    "# Show grid\n",
    "plt.grid(True)\n",
    "\n",
    "# Show the plot\n",
    "plt.show()"
   ]
  },
  {
   "cell_type": "markdown",
   "metadata": {},
   "source": [
    "### Occupation"
   ]
  },
  {
   "cell_type": "code",
   "execution_count": 39,
   "metadata": {},
   "outputs": [
    {
     "data": {
      "text/plain": [
       "<Figure size 864x576 with 0 Axes>"
      ]
     },
     "metadata": {},
     "output_type": "display_data"
    },
    {
     "data": {
      "image/png": "[encoded data removed]",
      "text/plain": [
       "<Figure size 432x288 with 1 Axes>"
      ]
     },
     "metadata": {
      "needs_background": "light"
     },
     "output_type": "display_data"
    }
   ],
   "source": [
    "# Calculate the percentage of TARGET for each category in 'detailed occupation recode'\n",
    "occupation_target_pct = data.groupby(['detailed occupation recode', 'TARGET']).size().unstack(fill_value=0)\n",
    "\n",
    "# Calculate the percentage by dividing each count by the total number of each 'detailed occupation recode' category\n",
    "occupation_target_pct = occupation_target_pct.div(occupation_target_pct.sum(axis=1), axis=0) * 100\n",
    "\n",
    "# Add the percentage for TARGET = 1 to the DataFrame for easy sorting\n",
    "occupation_target_pct['TARGET_1_pct'] = occupation_target_pct[1]\n",
    "\n",
    "# Sort by the percentage of TARGET = 1 in descending order and take the top 10\n",
    "top_10_occupation = occupation_target_pct.sort_values('TARGET_1_pct', ascending=False).head(10)\n",
    "\n",
    "top_10_occupation.rename(columns = {1:'>$50,000', 0:'<$50,000'}, inplace = True)\n",
    "\n",
    "# Plot the horizontal stacked bar chart\n",
    "plt.figure(figsize=(12, 8))\n",
    "top_10_occupation[['>$50,000','<$50,000']].iloc[::-1].plot(kind='barh', stacked=True, color=['skyblue', 'salmon'])\n",
    "\n",
    "# Set the title and labels\n",
    "plt.title(\"Top 10 Occupations by Percentage of Individuals Earning Over $50,000\", fontsize=14)\n",
    "plt.xlabel('Percentage (%)', fontsize=12)\n",
    "plt.ylabel('Occupation Code', fontsize=12)\n",
    "plt.legend(title = 'Income')\n",
    "\n",
    "# Show the plot\n",
    "plt.tight_layout()\n",
    "plt.show()"
   ]
  },
  {
   "cell_type": "code",
   "execution_count": 51,
   "metadata": {},
   "outputs": [
    {
     "data": {
      "text/plain": [
       "<Figure size 1440x576 with 0 Axes>"
      ]
     },
     "metadata": {},
     "output_type": "display_data"
    },
    {
     "data": {
      "image/png": "[encoded data removed]",
      "text/plain": [
       "<Figure size 432x288 with 1 Axes>"
      ]
     },
     "metadata": {
      "needs_background": "light"
     },
     "output_type": "display_data"
    }
   ],
   "source": [
    "# Calculate the percentage of TARGET for each category in 'education'\n",
    "education_target_pct = data.groupby(['education', 'TARGET']).size().unstack(fill_value=0)\n",
    "\n",
    "# Calculate the percentage by dividing each count by the total number of each 'education' category\n",
    "education_target_pct = education_target_pct.div(education_target_pct.sum(axis=1), axis=0) * 100\n",
    "\n",
    "# Add the percentage for TARGET = 1 to the DataFrame for easy sorting\n",
    "education_target_pct['TARGET_1_pct'] = education_target_pct[1]\n",
    "\n",
    "# Sort by the percentage of TARGET = 1 in descending order and take the top 10\n",
    "top_10_education = education_target_pct.sort_values('TARGET_1_pct', ascending=False).head(20)\n",
    "\n",
    "top_10_education.rename(columns = {1:'>$50,000', 0:'<$50,000'}, inplace = True)\n",
    "\n",
    "# Plot the horizontal stacked bar chart\n",
    "plt.figure(figsize=(20, 8))\n",
    "top_10_education[['>$50,000','<$50,000']].iloc[::-1].plot(kind='barh', stacked=True, color=['skyblue', 'salmon'])\n",
    "\n",
    "# Set the title and labels\n",
    "plt.title(\"Education Types by Percentage of Individuals Earning Over $50,000\", fontsize=14)\n",
    "plt.xlabel('Percentage (%)', fontsize=12)\n",
    "plt.ylabel('Education Type', fontsize=12)\n",
    "plt.legend(title = 'Income', loc='upper left', bbox_to_anchor=(1.05, 1))\n",
    "\n",
    "# Show the plot\n",
    "#plt.tight_layout()\n",
    "plt.show()"
   ]
  },
  {
   "cell_type": "code",
   "execution_count": null,
   "metadata": {},
   "outputs": [],
   "source": []
  }
 ],
 "metadata": {
  "kernelspec": {
   "display_name": "Python 3",
   "language": "python",
   "name": "python3"
  },
  "language_info": {
   "codemirror_mode": {
    "name": "ipython",
    "version": 3
   },
   "file_extension": ".py",
   "mimetype": "text/x-python",
   "name": "python",
   "nbconvert_exporter": "python",
   "pygments_lexer": "ipython3",
   "version": "3.9.7"
  }
 },
 "nbformat": 4,
 "nbformat_minor": 2
}
